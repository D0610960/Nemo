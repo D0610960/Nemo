{
 "cells": [
  {
   "cell_type": "code",
   "execution_count": 1,
   "metadata": {},
   "outputs": [],
   "source": [
    "class facenetEmbedding:\n",
    "    def __init__(self,model_path):\n",
    "        self.sess = tf.InteractiveSession()\n",
    "        self.sess.run(tf.global_variables_initializer())\n",
    "        # Load the model\n",
    "        facenet.load_model(model_path)\n",
    "        # Get input and output tensors\n",
    "        self.images_placeholder = tf.get_default_graph().get_tensor_by_name(\"input:0\")\n",
    "        self.tf_embeddings = tf.get_default_graph().get_tensor_by_name(\"embeddings:0\")\n",
    "        self.phase_train_placeholder = tf.get_default_graph().get_tensor_by_name(\"phase_train:0\")\n",
    " \n",
    "    def  get_embedding(self,images):\n",
    "        feed_dict = {self.images_placeholder: images, self.phase_train_placeholder: False}\n",
    "        embedding = self.sess.run(self.tf_embeddings, feed_dict=feed_dict)\n",
    "        return embedding\n",
    "    def free(self):\n",
    "        self.sess.close()"
   ]
  }
 ],
 "metadata": {
  "kernelspec": {
   "display_name": "Python 3",
   "language": "python",
   "name": "python3"
  },
  "language_info": {
   "codemirror_mode": {
    "name": "ipython",
    "version": 3
   },
   "file_extension": ".py",
   "mimetype": "text/x-python",
   "name": "python",
   "nbconvert_exporter": "python",
   "pygments_lexer": "ipython3",
   "version": "3.7.4"
  }
 },
 "nbformat": 4,
 "nbformat_minor": 4
}
